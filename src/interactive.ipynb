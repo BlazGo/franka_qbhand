{
 "cells": [
  {
   "cell_type": "code",
   "execution_count": 8,
   "metadata": {},
   "outputs": [],
   "source": [
    "import rospy\n",
    "from franka_setEE import SetEEFrameService, SetLoadService\n",
    "from franka_controllers import SwitchControllersSrv\n",
    "from franka_msgs.msg import FrankaState\n",
    "rospy.init_node(\"franka_notebook\")\n",
    "\n",
    "set_ee_service = SetEEFrameService()\n",
    "set_load_service = SetLoadService()\n",
    "switch_controllers = SwitchControllersSrv()"
   ]
  },
  {
   "cell_type": "code",
   "execution_count": 12,
   "metadata": {},
   "outputs": [
    {
     "name": "stdout",
     "output_type": "stream",
     "text": [
      "Response: success: True\n",
      "error: ''\n",
      "(1.0, 0.0, 0.0, 0.0, 0.0, 1.0, 0.0, 0.0, 0.0, 0.0, 1.0, 0.0, 0.0, 0.0, 0.0, 1.0)\n",
      "Response: success: True\n",
      "error: ''\n",
      "Response: success: True\n",
      "error: ''\n",
      "(1.0, 0.0, 0.0, 0.2, 0.0, 1.0, 0.0, 0.2, 0.0, 0.0, 1.0, 0.2, 0.0, 0.0, 0.0, 1.0)\n"
     ]
    }
   ],
   "source": [
    "set_ee_service.send_request(NE_T_EE=[1.0, 0.0, 0.0, 0.0,\n",
    "                                     0.0, 1.0, 0.0, 0.0,\n",
    "                                     0.0, 0.0, 1.0, 0.0,\n",
    "                                     0.0, 0.0, 0.0, 1.0])\n",
    "\n",
    "state = rospy.wait_for_message(\"/franka_state_controller/franka_states\", FrankaState, timeout=1)\n",
    "print(state.NE_T_EE)\n",
    "set_load_service.send_request(mass=0.76,\n",
    "                              F_x_center_load=[0.2, 0.1, 0.15],\n",
    "                              load_inertia=[0.001333, 0.0,     0.0,\n",
    "                                            0.0,      0.00347, 0.0,\n",
    "                                            0.0,      0.0,     0.00453])\n",
    "set_ee_service.send_request(NE_T_EE=[1.0, 0.0, 0.0, 0.2,\n",
    "                                     0.0, 1.0, 0.0, 0.2,\n",
    "                                     0.0, 0.0, 1.0, 0.2,\n",
    "                                     0.0, 0.0, 0.0, 1.0])\n",
    "\n",
    "state = rospy.wait_for_message(\"/franka_state_controller/franka_states\", FrankaState, timeout=1)\n",
    "print(state.NE_T_EE)"
   ]
  },
  {
   "cell_type": "code",
   "execution_count": null,
   "metadata": {},
   "outputs": [],
   "source": []
  }
 ],
 "metadata": {
  "kernelspec": {
   "display_name": ".venv",
   "language": "python",
   "name": "python3"
  },
  "language_info": {
   "codemirror_mode": {
    "name": "ipython",
    "version": 3
   },
   "file_extension": ".py",
   "mimetype": "text/x-python",
   "name": "python",
   "nbconvert_exporter": "python",
   "pygments_lexer": "ipython3",
   "version": "3.8.10"
  },
  "orig_nbformat": 4
 },
 "nbformat": 4,
 "nbformat_minor": 2
}
