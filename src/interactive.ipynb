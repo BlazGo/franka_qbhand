{
 "cells": [
  {
   "cell_type": "code",
   "execution_count": 1,
   "metadata": {},
   "outputs": [
    {
     "name": "stdout",
     "output_type": "stream",
     "text": [
      "\u001b[90m2023-08-19 07:25:35\u001b[0m \u001b[92m[INFO]\u001b[0m Logger '\u001b[94mmy_log\u001b[0m' with level \u001b[94m20\u001b[0m\u001b[0m\n",
      "\u001b[90m2023-08-19 07:25:35\u001b[0m \u001b[92m[INFO]\u001b[0m Initializing PandaRobot class\u001b[0m\n",
      "\u001b[90m2023-08-19 07:25:36\u001b[0m \u001b[92m[INFO]\u001b[0m Setting stiffness\u001b[0m\n",
      "\u001b[90m2023-08-19 07:25:36\u001b[0m \u001b[92m[INFO]\u001b[0m Old stiffness: {'translational_stiffness': 200.0, 'rotational_stiffness': 10.0, 'nullspace_stiffness': 0.5}\u001b[0m\n",
      "\u001b[90m2023-08-19 07:25:38\u001b[0m \u001b[92m[INFO]\u001b[0m New stiffness: {'translational_stiffness': 400.0, 'rotational_stiffness': 20.0, 'nullspace_stiffness': 1.0}\u001b[0m\n"
     ]
    },
    {
     "name": "stderr",
     "output_type": "stream",
     "text": [
      "/opt/ros/noetic/lib/python3/dist-packages/tf/listener.py:97: YAMLLoadWarning: calling yaml.load() without Loader=... is deprecated, as the default Loader is unsafe. Please read https://msg.pyyaml.org/load for full details.\n",
      "  data = yaml.load(self._buffer.all_frames_as_yaml()) or {}\n"
     ]
    },
    {
     "name": "stdout",
     "output_type": "stream",
     "text": [
      "\u001b[90m2023-08-19 07:25:41\u001b[0m \u001b[92m[INFO]\u001b[0m Trans: [0.30442065037925387, 5.160022445644801e-05, 0.6642917513655142], Rot: [-0.923830337239401, 0.3823792057920892, 0.014380113993910891, -0.010810332810230019]\u001b[0m\n",
      "\u001b[90m2023-08-19 07:25:41\u001b[0m \u001b[92m[INFO]\u001b[0m cart pose:\n",
      "trans:[0.30442065037925387, 5.160022445644801e-05, 0.6642917513655142], rot: (3.11061136914313, 0.018303300122493916, -0.7851571539876617)\u001b[0m\n",
      "\u001b[90m2023-08-19 07:25:41\u001b[0m \u001b[92m[INFO]\u001b[0m q: (-0.002378557679961091, -0.7108042423268586, 0.0035969825038515424, -2.1069666205464364, -0.006746157586318802, 1.3615546194236874, 0.7838926673656061)\u001b[0m\n",
      "\u001b[90m2023-08-19 07:25:44\u001b[0m \u001b[92m[INFO]\u001b[0m Panda initialization \u001b[92mDONE\u001b[0m\n"
     ]
    }
   ],
   "source": [
    "import rospy\n",
    "import numpy as np\n",
    "from panda_robot_custom import PandaRobotCustom\n",
    "import my_log\n",
    "import tools\n",
    "\n",
    "log = my_log.logger()\n",
    "log._print_logger_info()\n",
    "\n",
    "rospy.init_node(\"franka_test\", anonymous=True)\n",
    "\n",
    "robot = PandaRobotCustom()\n",
    "rospy.sleep(1) "
   ]
  },
  {
   "cell_type": "code",
   "execution_count": null,
   "metadata": {},
   "outputs": [],
   "source": [
    "trans = [0.35, 0.0, 0.6]\n",
    "rot = [np.pi]"
   ]
  }
 ],
 "metadata": {
  "kernelspec": {
   "display_name": "Python 3 (ipykernel)",
   "language": "python",
   "name": "python3"
  },
  "language_info": {
   "codemirror_mode": {
    "name": "ipython",
    "version": 3
   },
   "file_extension": ".py",
   "mimetype": "text/x-python",
   "name": "python",
   "nbconvert_exporter": "python",
   "pygments_lexer": "ipython3",
   "version": "3.8.10"
  }
 },
 "nbformat": 4,
 "nbformat_minor": 4
}
