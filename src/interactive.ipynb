{
 "cells": [
  {
   "cell_type": "code",
   "execution_count": 1,
   "metadata": {},
   "outputs": [
    {
     "name": "stdout",
     "output_type": "stream",
     "text": [
      "\u001b[90m2023-09-11 19:10:01\u001b[0m \u001b[92m[INFO]\u001b[0m Initializing PandaRobot class\u001b[0m\n",
      "\u001b[90m2023-09-11 19:10:02\u001b[0m \u001b[92m[INFO]\u001b[0m Panda initialization \u001b[92mDONE\u001b[0m\n"
     ]
    }
   ],
   "source": [
    "import rospy\n",
    "import numpy as np\n",
    "from panda_robot_custom import PandaRobotCustom\n",
    "from tf.transformations import quaternion_from_euler, euler_from_quaternion\n",
    "import my_log\n",
    "\n",
    "log = my_log.logger()\n",
    "\n",
    "rospy.init_node(\"franka_test\", anonymous=True)\n",
    "\n",
    "robot = PandaRobotCustom(log_level=10)\n",
    "rospy.sleep(1) "
   ]
  },
  {
   "cell_type": "code",
   "execution_count": 5,
   "metadata": {},
   "outputs": [
    {
     "name": "stdout",
     "output_type": "stream",
     "text": [
      "\u001b[90m2023-09-11 19:10:51\u001b[0m \u001b[92m[INFO]\u001b[0m Stiffness: {'translational_stiffness': 400.0, 'rotational_stiffness': 20.0, 'nullspace_stiffness': 0.5}\u001b[0m\n"
     ]
    }
   ],
   "source": [
    "# Stiffness setup\n",
    "robot.set_stiffness(trans=400.0, rot=20.0)\n",
    "log.info(f\"Stiffness: {robot.get_stiffness()}\")"
   ]
  },
  {
   "cell_type": "code",
   "execution_count": 7,
   "metadata": {},
   "outputs": [
    {
     "name": "stdout",
     "output_type": "stream",
     "text": [
      "\u001b[90m2023-09-11 19:14:08\u001b[0m \u001b[96m[DEBUG]\u001b[0m Switching controllers\u001b[0m\n",
      "\u001b[90m2023-09-11 19:14:08\u001b[0m \u001b[96m[DEBUG]\u001b[0m Starting: ['']\u001b[0m\n",
      "\u001b[90m2023-09-11 19:14:08\u001b[0m \u001b[96m[DEBUG]\u001b[0m Stopping: ['franka_state_controller', 'cartesian_impedance_example_controller']\u001b[0m\n",
      "\u001b[90m2023-09-11 19:14:10\u001b[0m \u001b[92m[INFO]\u001b[0m Response switch controllers: ok: True\u001b[0m\n",
      "\u001b[90m2023-09-11 19:14:10\u001b[0m \u001b[92m[INFO]\u001b[0m Controllers: [name: \"franka_state_controller\"\n",
      "state: \"stopped\"\n",
      "type: \"franka_control/FrankaStateController\"\n",
      "claimed_resources: \n",
      "  - \n",
      "    hardware_interface: \"franka_hw::FrankaStateInterface\"\n",
      "    resources: [], name: \"cartesian_impedance_example_controller\"\n",
      "state: \"stopped\"\n",
      "type: \"franka_example_controllers/CartesianImpedanceExampleController\"\n",
      "claimed_resources: \n",
      "  - \n",
      "    hardware_interface: \"franka_hw::FrankaModelInterface\"\n",
      "    resources: []\n",
      "  - \n",
      "    hardware_interface: \"hardware_interface::EffortJointInterface\"\n",
      "    resources: \n",
      "      - panda_joint1\n",
      "      - panda_joint2\n",
      "      - panda_joint3\n",
      "      - panda_joint4\n",
      "      - panda_joint5\n",
      "      - panda_joint6\n",
      "      - panda_joint7\n",
      "  - \n",
      "    hardware_interface: \"franka_hw::FrankaStateInterface\"\n",
      "    resources: []]\u001b[0m\n"
     ]
    }
   ],
   "source": [
    "response = robot.switch_controller(stop_controllers=robot.used_controllers)\n",
    "log.info(f\"Response switch controllers: {response}\")\n",
    "response = robot.list_controllers()\n",
    "log.info(f\"Controllers: {response}\")"
   ]
  },
  {
   "cell_type": "code",
   "execution_count": null,
   "metadata": {},
   "outputs": [],
   "source": [
    "# EE frame transformation construction\n",
    "T_trans = np.eye(4)\n",
    "T_trans[0:3, 3] = np.array([-0.92, -0.0, 0.05]).T\n",
    "\n",
    "T_rot = np.eye(4)\n",
    "T_rot[0:3, 0:3] = my_tools.get_rotation_matrix(angle=np.deg2rad(45), axis=\"z\")\n",
    "\n",
    "T_new = np.matmul(T_rot, T_trans)\n",
    "T_new = np.reshape(T_new, (16), order = 'C') # msg formaat\n",
    "\n",
    "self.log.debug(f\"{T_new}\")\n",
    "\n",
    "response = self.set_EE_load(TOOL_MASS,\n",
    "                            F_X_CENTER_TOOL,\n",
    "                            TOOL_INERTIA)\n",
    "self.log.debug(f\"Response set EE load: {response}\")\n",
    "response = self.set_NE_T_EE_transform(NE_T_EE=T_new)\n",
    "self.log.debug(f\"Response set EE trans: {response}\")"
   ]
  },
  {
   "cell_type": "code",
   "execution_count": null,
   "metadata": {},
   "outputs": [],
   "source": [
    "response = robot.switch_controller(start_controllers=robot.used_controllers)\n",
    "log.info(f\"Response switch controllers: {response}\")"
   ]
  },
  {
   "cell_type": "code",
   "execution_count": null,
   "metadata": {},
   "outputs": [],
   "source": [
    "trans = [0.3, 0.0, 0.6]\n",
    "rot = [np.pi, 0.0, 0.0]\n",
    "robot.cart_move(trans, quaternion_from_euler(rot[0], rot[1], rot[2]))"
   ]
  },
  {
   "cell_type": "code",
   "execution_count": null,
   "metadata": {},
   "outputs": [],
   "source": [
    "log.info(robot.get_cart_pose())"
   ]
  },
  {
   "cell_type": "code",
   "execution_count": null,
   "metadata": {},
   "outputs": [],
   "source": []
  }
 ],
 "metadata": {
  "kernelspec": {
   "display_name": "Python 3 (ipykernel)",
   "language": "python",
   "name": "python3"
  },
  "language_info": {
   "codemirror_mode": {
    "name": "ipython",
    "version": 3
   },
   "file_extension": ".py",
   "mimetype": "text/x-python",
   "name": "python",
   "nbconvert_exporter": "python",
   "pygments_lexer": "ipython3",
   "version": "3.8.10"
  }
 },
 "nbformat": 4,
 "nbformat_minor": 4
}
