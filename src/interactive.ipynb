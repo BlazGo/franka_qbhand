{
 "cells": [
  {
   "cell_type": "code",
   "execution_count": 12,
   "metadata": {},
   "outputs": [],
   "source": [
    "import rospy\n",
    "from franka_setEE import SetEEFrameService\n",
    "from franka_controllers import SwitchControllersSrv\n",
    "\n",
    "rospy.init_node(\"franka_notebook\")\n",
    "set_ee_service = SetEEFrameService()\n",
    "switch_controllers = SwitchControllersSrv()"
   ]
  },
  {
   "cell_type": "code",
   "execution_count": 16,
   "metadata": {},
   "outputs": [
    {
     "name": "stdout",
     "output_type": "stream",
     "text": [
      "Response: ok: True\n"
     ]
    }
   ],
   "source": [
    "switch_controllers.send_request(start_controllers=[],\n",
    "                                stop_controllers=[\"cartesian_impedance_example_controller\"])"
   ]
  },
  {
   "cell_type": "code",
   "execution_count": 17,
   "metadata": {},
   "outputs": [
    {
     "name": "stdout",
     "output_type": "stream",
     "text": [
      "Response: success: True\n",
      "error: ''\n"
     ]
    }
   ],
   "source": [
    "set_ee_service.send_request(NE_T_EE=[[1.0, 0.0, 0.0, 0.2],\n",
    "                                     [0.0, 1.0, 0.0, 0.2],\n",
    "                                     [0.0, 0.0, 1.0, 0.2],\n",
    "                                     [0.0, 0.0, 0.0, 1.0]])"
   ]
  },
  {
   "cell_type": "code",
   "execution_count": 18,
   "metadata": {},
   "outputs": [
    {
     "name": "stdout",
     "output_type": "stream",
     "text": [
      "Response: ok: True\n"
     ]
    }
   ],
   "source": [
    "switch_controllers.send_request(start_controllers=[\"cartesian_impedance_example_controller\"],\n",
    "                                stop_controllers=[])"
   ]
  },
  {
   "cell_type": "code",
   "execution_count": null,
   "metadata": {},
   "outputs": [],
   "source": []
  }
 ],
 "metadata": {
  "kernelspec": {
   "display_name": ".venv",
   "language": "python",
   "name": "python3"
  },
  "language_info": {
   "codemirror_mode": {
    "name": "ipython",
    "version": 3
   },
   "file_extension": ".py",
   "mimetype": "text/x-python",
   "name": "python",
   "nbconvert_exporter": "python",
   "pygments_lexer": "ipython3",
   "version": "3.8.10"
  },
  "orig_nbformat": 4
 },
 "nbformat": 4,
 "nbformat_minor": 2
}
