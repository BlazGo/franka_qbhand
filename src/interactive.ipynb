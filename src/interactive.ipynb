{
 "cells": [
  {
   "cell_type": "code",
   "execution_count": 1,
   "metadata": {},
   "outputs": [
    {
     "name": "stdout",
     "output_type": "stream",
     "text": [
      "\u001b[90m2023-08-22 20:39:17\u001b[0m \u001b[92m[INFO]\u001b[0m Logger '\u001b[94mmy_log\u001b[0m' with level \u001b[94m20\u001b[0m\u001b[0m\n",
      "\u001b[90m2023-08-22 20:39:17\u001b[0m \u001b[92m[INFO]\u001b[0m Initializing PandaRobot class\u001b[0m\n",
      "\u001b[90m2023-08-22 20:39:18\u001b[0m \u001b[92m[INFO]\u001b[0m Setting stiffness\u001b[0m\n",
      "\u001b[90m2023-08-22 20:39:18\u001b[0m \u001b[92m[INFO]\u001b[0m Old stiffness: {'translational_stiffness': 400.0, 'rotational_stiffness': 20.0, 'nullspace_stiffness': 1.0}\u001b[0m\n",
      "\u001b[90m2023-08-22 20:39:19\u001b[0m \u001b[92m[INFO]\u001b[0m New stiffness: {'translational_stiffness': 400.0, 'rotational_stiffness': 20.0, 'nullspace_stiffness': 1.0}\u001b[0m\n",
      "\u001b[90m2023-08-22 20:39:22\u001b[0m \u001b[92m[INFO]\u001b[0m Trans:[0.501496038644311, -0.00010903670803920568, 0.5816539969663672], Rot: (3.115172894836589, 0.3928352319921672, -0.004289018668721386)\u001b[0m\n",
      "\u001b[90m2023-08-22 20:39:22\u001b[0m \u001b[92m[INFO]\u001b[0m q_states: (-0.00482886830294138, -0.5320001993765597, 0.011495214355705663, -1.940262942100274, -0.020528181200959672, 1.0153886862429475, 0.7809804376639953)\u001b[0m\n",
      "\u001b[90m2023-08-22 20:39:24\u001b[0m \u001b[92m[INFO]\u001b[0m Response set load: success: True\n",
      "error: ''\u001b[0m\n",
      "\u001b[90m2023-08-22 20:39:25\u001b[0m \u001b[92m[INFO]\u001b[0m Response set EE: success: True\n",
      "error: ''\u001b[0m\n",
      "\u001b[90m2023-08-22 20:39:27\u001b[0m \u001b[92m[INFO]\u001b[0m Panda initialization \u001b[92mDONE\u001b[0m\n"
     ]
    }
   ],
   "source": [
    "import rospy\n",
    "import numpy as np\n",
    "from panda_robot_custom import PandaRobotCustom\n",
    "from tf.transformations import quaternion_from_euler, euler_from_quaternion\n",
    "import my_log\n",
    "import tools\n",
    "\n",
    "log = my_log.logger()\n",
    "log._print_logger_info()\n",
    "\n",
    "rospy.init_node(\"franka_test\", anonymous=True)\n",
    "\n",
    "robot = PandaRobotCustom()\n",
    "rospy.sleep(1) "
   ]
  },
  {
   "cell_type": "code",
   "execution_count": null,
   "metadata": {},
   "outputs": [],
   "source": [
    "trans = [0.3, 0.0, 0.6]\n",
    "rot = [np.pi, 0.0, 0.0]\n",
    "robot.cart_move(trans, quaternion_from_euler(rot[0], rot[1], rot[2]))"
   ]
  },
  {
   "cell_type": "code",
   "execution_count": null,
   "metadata": {},
   "outputs": [],
   "source": [
    "log.info(robot.get_cart_pose())"
   ]
  },
  {
   "cell_type": "code",
   "execution_count": null,
   "metadata": {},
   "outputs": [],
   "source": []
  }
 ],
 "metadata": {
  "kernelspec": {
   "display_name": "Python 3 (ipykernel)",
   "language": "python",
   "name": "python3"
  },
  "language_info": {
   "codemirror_mode": {
    "name": "ipython",
    "version": 3
   },
   "file_extension": ".py",
   "mimetype": "text/x-python",
   "name": "python",
   "nbconvert_exporter": "python",
   "pygments_lexer": "ipython3",
   "version": "3.8.10"
  }
 },
 "nbformat": 4,
 "nbformat_minor": 4
}
