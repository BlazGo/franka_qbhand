{
 "cells": [
  {
   "cell_type": "code",
   "execution_count": 1,
   "metadata": {},
   "outputs": [],
   "source": [
    "import rospy\n",
    "from franka_setEE import SetEEFrameService\n",
    "from franka_controllers import SwitchControllersSrv\n",
    "\n",
    "rospy.init_node(\"franka_notebook\")\n",
    "set_ee_service = SetEEFrameService()\n",
    "switch_controllers = SwitchControllersSrv()"
   ]
  },
  {
   "cell_type": "code",
   "execution_count": 2,
   "metadata": {},
   "outputs": [
    {
     "name": "stdout",
     "output_type": "stream",
     "text": [
      "Response: ok: True\n"
     ]
    }
   ],
   "source": [
    "switch_controllers.send_request(start_controllers=[],\n",
    "                                stop_controllers=[\"cartesian_impedance_example_controller\"],\n",
    "                                strictness=2)"
   ]
  },
  {
   "cell_type": "code",
   "execution_count": 3,
   "metadata": {},
   "outputs": [
    {
     "ename": "SerializationError",
     "evalue": "field NE_T_EE[] must be float type",
     "output_type": "error",
     "traceback": [
      "\u001b[0;31m---------------------------------------------------------------------------\u001b[0m",
      "\u001b[0;31merror\u001b[0m                                     Traceback (most recent call last)",
      "File \u001b[0;32m/opt/ros/noetic/lib/python3/dist-packages/franka_msgs/srv/_SetEEFrame.py:53\u001b[0m, in \u001b[0;36mSetEEFrameRequest.serialize\u001b[0;34m(self, buff)\u001b[0m\n\u001b[1;32m     52\u001b[0m \u001b[39mtry\u001b[39;00m:\n\u001b[0;32m---> 53\u001b[0m   buff\u001b[39m.\u001b[39mwrite(_get_struct_16d()\u001b[39m.\u001b[39;49mpack(\u001b[39m*\u001b[39;49m\u001b[39mself\u001b[39;49m\u001b[39m.\u001b[39;49mNE_T_EE))\n\u001b[1;32m     54\u001b[0m \u001b[39mexcept\u001b[39;00m struct\u001b[39m.\u001b[39merror \u001b[39mas\u001b[39;00m se: \u001b[39mself\u001b[39m\u001b[39m.\u001b[39m_check_types(struct\u001b[39m.\u001b[39merror(\u001b[39m\"\u001b[39m\u001b[39m%s\u001b[39;00m\u001b[39m: \u001b[39m\u001b[39m'\u001b[39m\u001b[39m%s\u001b[39;00m\u001b[39m'\u001b[39m\u001b[39m when writing \u001b[39m\u001b[39m'\u001b[39m\u001b[39m%s\u001b[39;00m\u001b[39m'\u001b[39m\u001b[39m\"\u001b[39m \u001b[39m%\u001b[39m (\u001b[39mtype\u001b[39m(se), \u001b[39mstr\u001b[39m(se), \u001b[39mstr\u001b[39m(\u001b[39mlocals\u001b[39m()\u001b[39m.\u001b[39mget(\u001b[39m'\u001b[39m\u001b[39m_x\u001b[39m\u001b[39m'\u001b[39m, \u001b[39mself\u001b[39m)))))\n",
      "\u001b[0;31merror\u001b[0m: pack expected 16 items for packing (got 4)",
      "\nDuring handling of the above exception, another exception occurred:\n",
      "\u001b[0;31mSerializationError\u001b[0m                        Traceback (most recent call last)",
      "Cell \u001b[0;32mIn[3], line 1\u001b[0m\n\u001b[0;32m----> 1\u001b[0m set_ee_service\u001b[39m.\u001b[39;49msend_request(NE_T_EE\u001b[39m=\u001b[39;49m[[\u001b[39m1.0\u001b[39;49m, \u001b[39m0.0\u001b[39;49m, \u001b[39m0.0\u001b[39;49m, \u001b[39m0.2\u001b[39;49m],\n\u001b[1;32m      2\u001b[0m                                      [\u001b[39m0.0\u001b[39;49m, \u001b[39m1.0\u001b[39;49m, \u001b[39m0.0\u001b[39;49m, \u001b[39m0.2\u001b[39;49m],\n\u001b[1;32m      3\u001b[0m                                      [\u001b[39m0.0\u001b[39;49m, \u001b[39m0.0\u001b[39;49m, \u001b[39m1.0\u001b[39;49m, \u001b[39m0.2\u001b[39;49m],\n\u001b[1;32m      4\u001b[0m                                      [\u001b[39m0.0\u001b[39;49m, \u001b[39m0.0\u001b[39;49m, \u001b[39m0.0\u001b[39;49m, \u001b[39m1.0\u001b[39;49m]])\n",
      "File \u001b[0;32m~/catkin_ws/src/franka_qbhand/src/franka_setEE.py:14\u001b[0m, in \u001b[0;36mSetEEFrameService.send_request\u001b[0;34m(self, NE_T_EE)\u001b[0m\n\u001b[1;32m     12\u001b[0m msg \u001b[39m=\u001b[39m SetEEFrameRequest()\n\u001b[1;32m     13\u001b[0m msg\u001b[39m.\u001b[39mNE_T_EE \u001b[39m=\u001b[39m NE_T_EE\n\u001b[0;32m---> 14\u001b[0m respone \u001b[39m=\u001b[39m \u001b[39mself\u001b[39;49m\u001b[39m.\u001b[39;49mclient\u001b[39m.\u001b[39;49mcall(msg)\n\u001b[1;32m     15\u001b[0m \u001b[39mprint\u001b[39m(\u001b[39mf\u001b[39m\u001b[39m\"\u001b[39m\u001b[39mResponse: \u001b[39m\u001b[39m{\u001b[39;00mrespone\u001b[39m}\u001b[39;00m\u001b[39m\"\u001b[39m)\n",
      "File \u001b[0;32m/opt/ros/noetic/lib/python3/dist-packages/rospy/impl/tcpros_service.py:520\u001b[0m, in \u001b[0;36mServiceProxy.call\u001b[0;34m(self, *args, **kwds)\u001b[0m\n\u001b[1;32m    518\u001b[0m \u001b[39m# send the actual request message\u001b[39;00m\n\u001b[1;32m    519\u001b[0m \u001b[39mself\u001b[39m\u001b[39m.\u001b[39mseq \u001b[39m+\u001b[39m\u001b[39m=\u001b[39m \u001b[39m1\u001b[39m\n\u001b[0;32m--> 520\u001b[0m transport\u001b[39m.\u001b[39;49msend_message(request, \u001b[39mself\u001b[39;49m\u001b[39m.\u001b[39;49mseq)\n\u001b[1;32m    522\u001b[0m \u001b[39mtry\u001b[39;00m:\n\u001b[1;32m    523\u001b[0m     responses \u001b[39m=\u001b[39m transport\u001b[39m.\u001b[39mreceive_once()\n",
      "File \u001b[0;32m/opt/ros/noetic/lib/python3/dist-packages/rospy/impl/tcpros_base.py:679\u001b[0m, in \u001b[0;36mTCPROSTransport.send_message\u001b[0;34m(self, msg, seq)\u001b[0m\n\u001b[1;32m    667\u001b[0m \u001b[39m\u001b[39m\u001b[39m\"\"\"\u001b[39;00m\n\u001b[1;32m    668\u001b[0m \u001b[39mConvenience routine for services to send a message across a\u001b[39;00m\n\u001b[1;32m    669\u001b[0m \u001b[39mparticular connection. NOTE: write_data is much more efficient\u001b[39;00m\n\u001b[0;32m   (...)\u001b[0m\n\u001b[1;32m    676\u001b[0m \u001b[39m@raise TransportException: if error occurred sending message\u001b[39;00m\n\u001b[1;32m    677\u001b[0m \u001b[39m\"\"\"\u001b[39;00m\n\u001b[1;32m    678\u001b[0m \u001b[39m# this will call write_data(), so no need to keep track of stats\u001b[39;00m\n\u001b[0;32m--> 679\u001b[0m serialize_message(\u001b[39mself\u001b[39;49m\u001b[39m.\u001b[39;49mwrite_buff, seq, msg)\n\u001b[1;32m    680\u001b[0m \u001b[39mself\u001b[39m\u001b[39m.\u001b[39mwrite_data(\u001b[39mself\u001b[39m\u001b[39m.\u001b[39mwrite_buff\u001b[39m.\u001b[39mgetvalue())\n\u001b[1;32m    681\u001b[0m \u001b[39mself\u001b[39m\u001b[39m.\u001b[39mwrite_buff\u001b[39m.\u001b[39mtruncate(\u001b[39m0\u001b[39m)\n",
      "File \u001b[0;32m/opt/ros/noetic/lib/python3/dist-packages/rospy/msg.py:152\u001b[0m, in \u001b[0;36mserialize_message\u001b[0;34m(b, seq, msg)\u001b[0m\n\u001b[1;32m    150\u001b[0m \u001b[39m#serialize the message data\u001b[39;00m\n\u001b[1;32m    151\u001b[0m \u001b[39mtry\u001b[39;00m:\n\u001b[0;32m--> 152\u001b[0m     msg\u001b[39m.\u001b[39;49mserialize(b)\n\u001b[1;32m    153\u001b[0m \u001b[39mexcept\u001b[39;00m struct\u001b[39m.\u001b[39merror \u001b[39mas\u001b[39;00m e:\n\u001b[1;32m    154\u001b[0m     \u001b[39mraise\u001b[39;00m rospy\u001b[39m.\u001b[39mexceptions\u001b[39m.\u001b[39mROSSerializationException(e)\n",
      "File \u001b[0;32m/opt/ros/noetic/lib/python3/dist-packages/franka_msgs/srv/_SetEEFrame.py:54\u001b[0m, in \u001b[0;36mSetEEFrameRequest.serialize\u001b[0;34m(self, buff)\u001b[0m\n\u001b[1;32m     52\u001b[0m \u001b[39mtry\u001b[39;00m:\n\u001b[1;32m     53\u001b[0m   buff\u001b[39m.\u001b[39mwrite(_get_struct_16d()\u001b[39m.\u001b[39mpack(\u001b[39m*\u001b[39m\u001b[39mself\u001b[39m\u001b[39m.\u001b[39mNE_T_EE))\n\u001b[0;32m---> 54\u001b[0m \u001b[39mexcept\u001b[39;00m struct\u001b[39m.\u001b[39merror \u001b[39mas\u001b[39;00m se: \u001b[39mself\u001b[39;49m\u001b[39m.\u001b[39;49m_check_types(struct\u001b[39m.\u001b[39;49merror(\u001b[39m\"\u001b[39;49m\u001b[39m%s\u001b[39;49;00m\u001b[39m: \u001b[39;49m\u001b[39m'\u001b[39;49m\u001b[39m%s\u001b[39;49;00m\u001b[39m'\u001b[39;49m\u001b[39m when writing \u001b[39;49m\u001b[39m'\u001b[39;49m\u001b[39m%s\u001b[39;49;00m\u001b[39m'\u001b[39;49m\u001b[39m\"\u001b[39;49m \u001b[39m%\u001b[39;49m (\u001b[39mtype\u001b[39;49m(se), \u001b[39mstr\u001b[39;49m(se), \u001b[39mstr\u001b[39;49m(\u001b[39mlocals\u001b[39;49m()\u001b[39m.\u001b[39;49mget(\u001b[39m'\u001b[39;49m\u001b[39m_x\u001b[39;49m\u001b[39m'\u001b[39;49m, \u001b[39mself\u001b[39;49m)))))\n\u001b[1;32m     55\u001b[0m \u001b[39mexcept\u001b[39;00m \u001b[39mTypeError\u001b[39;00m \u001b[39mas\u001b[39;00m te: \u001b[39mself\u001b[39m\u001b[39m.\u001b[39m_check_types(\u001b[39mValueError\u001b[39;00m(\u001b[39m\"\u001b[39m\u001b[39m%s\u001b[39;00m\u001b[39m: \u001b[39m\u001b[39m'\u001b[39m\u001b[39m%s\u001b[39;00m\u001b[39m'\u001b[39m\u001b[39m when writing \u001b[39m\u001b[39m'\u001b[39m\u001b[39m%s\u001b[39;00m\u001b[39m'\u001b[39m\u001b[39m\"\u001b[39m \u001b[39m%\u001b[39m (\u001b[39mtype\u001b[39m(te), \u001b[39mstr\u001b[39m(te), \u001b[39mstr\u001b[39m(\u001b[39mlocals\u001b[39m()\u001b[39m.\u001b[39mget(\u001b[39m'\u001b[39m\u001b[39m_x\u001b[39m\u001b[39m'\u001b[39m, \u001b[39mself\u001b[39m)))))\n",
      "File \u001b[0;32m/opt/ros/noetic/lib/python3/dist-packages/genpy/message.py:393\u001b[0m, in \u001b[0;36mMessage._check_types\u001b[0;34m(self, exc)\u001b[0m\n\u001b[1;32m    384\u001b[0m \u001b[39m\u001b[39m\u001b[39m\"\"\"\u001b[39;00m\n\u001b[1;32m    385\u001b[0m \u001b[39mPerform dynamic type-checking of Message fields.\u001b[39;00m\n\u001b[1;32m    386\u001b[0m \n\u001b[0;32m   (...)\u001b[0m\n\u001b[1;32m    390\u001b[0m \u001b[39m:raises: exc:`genpy.SerializationError` If typecheck fails\u001b[39;00m\n\u001b[1;32m    391\u001b[0m \u001b[39m\"\"\"\u001b[39;00m\n\u001b[1;32m    392\u001b[0m \u001b[39mfor\u001b[39;00m n, t \u001b[39min\u001b[39;00m \u001b[39mzip\u001b[39m(\u001b[39mself\u001b[39m\u001b[39m.\u001b[39m\u001b[39m__slots__\u001b[39m, \u001b[39mself\u001b[39m\u001b[39m.\u001b[39m_get_types()):\n\u001b[0;32m--> 393\u001b[0m     check_type(n, t, \u001b[39mgetattr\u001b[39;49m(\u001b[39mself\u001b[39;49m, n))\n\u001b[1;32m    394\u001b[0m \u001b[39mif\u001b[39;00m exc:  \u001b[39m# if exc is set and check_type could not diagnose, raise wrapped error\u001b[39;00m\n\u001b[1;32m    395\u001b[0m     \u001b[39mraise\u001b[39;00m SerializationError(\u001b[39mstr\u001b[39m(exc))\n",
      "File \u001b[0;32m/opt/ros/noetic/lib/python3/dist-packages/genpy/message.py:314\u001b[0m, in \u001b[0;36mcheck_type\u001b[0;34m(field_name, field_type, field_val)\u001b[0m\n\u001b[1;32m    312\u001b[0m         \u001b[39mraise\u001b[39;00m SerializationError(\u001b[39m'\u001b[39m\u001b[39mfield \u001b[39m\u001b[39m%s\u001b[39;00m\u001b[39m must be a list or tuple type\u001b[39m\u001b[39m'\u001b[39m \u001b[39m%\u001b[39m field_name)\n\u001b[1;32m    313\u001b[0m     \u001b[39mfor\u001b[39;00m v \u001b[39min\u001b[39;00m field_val:\n\u001b[0;32m--> 314\u001b[0m         check_type(field_name \u001b[39m+\u001b[39;49m \u001b[39m'\u001b[39;49m\u001b[39m[]\u001b[39;49m\u001b[39m'\u001b[39;49m, base_type, v)\n\u001b[1;32m    315\u001b[0m \u001b[39melse\u001b[39;00m:\n\u001b[1;32m    316\u001b[0m     \u001b[39mif\u001b[39;00m \u001b[39misinstance\u001b[39m(field_val, Message):\n\u001b[1;32m    317\u001b[0m         \u001b[39m# roslib/Header is the old location of Header. We check it for backwards compat\u001b[39;00m\n",
      "File \u001b[0;32m/opt/ros/noetic/lib/python3/dist-packages/genpy/message.py:273\u001b[0m, in \u001b[0;36mcheck_type\u001b[0;34m(field_name, field_type, field_val)\u001b[0m\n\u001b[1;32m    271\u001b[0m \u001b[39melif\u001b[39;00m field_type \u001b[39min\u001b[39;00m [\u001b[39m'\u001b[39m\u001b[39mfloat32\u001b[39m\u001b[39m'\u001b[39m, \u001b[39m'\u001b[39m\u001b[39mfloat64\u001b[39m\u001b[39m'\u001b[39m]:\n\u001b[1;32m    272\u001b[0m     \u001b[39mif\u001b[39;00m \u001b[39mtype\u001b[39m(field_val) \u001b[39mnot\u001b[39;00m \u001b[39min\u001b[39;00m _valid_float_types:\n\u001b[0;32m--> 273\u001b[0m         \u001b[39mraise\u001b[39;00m SerializationError(\u001b[39m'\u001b[39m\u001b[39mfield \u001b[39m\u001b[39m%s\u001b[39;00m\u001b[39m must be float type\u001b[39m\u001b[39m'\u001b[39m \u001b[39m%\u001b[39m field_name)\n\u001b[1;32m    274\u001b[0m \u001b[39melif\u001b[39;00m field_type \u001b[39m==\u001b[39m \u001b[39m'\u001b[39m\u001b[39mbool\u001b[39m\u001b[39m'\u001b[39m:\n\u001b[1;32m    275\u001b[0m     \u001b[39mif\u001b[39;00m field_val \u001b[39mnot\u001b[39;00m \u001b[39min\u001b[39;00m [\u001b[39mTrue\u001b[39;00m, \u001b[39mFalse\u001b[39;00m, \u001b[39m0\u001b[39m, \u001b[39m1\u001b[39m]:\n",
      "\u001b[0;31mSerializationError\u001b[0m: field NE_T_EE[] must be float type"
     ]
    }
   ],
   "source": [
    "set_ee_service.send_request(NE_T_EE=[1.0, 0.0, 0.0, 0.2,\n",
    "                                     0.0, 1.0, 0.0, 0.2,\n",
    "                                     0.0, 0.0, 1.0, 0.2,\n",
    "                                     0.0, 0.0, 0.0, 1.0])"
   ]
  },
  {
   "cell_type": "code",
   "execution_count": 22,
   "metadata": {},
   "outputs": [
    {
     "name": "stdout",
     "output_type": "stream",
     "text": [
      "Response: ok: True\n"
     ]
    }
   ],
   "source": [
    "switch_controllers.send_request(start_controllers=[\"cartesian_impedance_example_controller\"],\n",
    "                                stop_controllers=[],\n",
    "                                strictness=2)"
   ]
  },
  {
   "cell_type": "code",
   "execution_count": null,
   "metadata": {},
   "outputs": [],
   "source": []
  }
 ],
 "metadata": {
  "kernelspec": {
   "display_name": ".venv",
   "language": "python",
   "name": "python3"
  },
  "language_info": {
   "codemirror_mode": {
    "name": "ipython",
    "version": 3
   },
   "file_extension": ".py",
   "mimetype": "text/x-python",
   "name": "python",
   "nbconvert_exporter": "python",
   "pygments_lexer": "ipython3",
   "version": "3.8.10"
  },
  "orig_nbformat": 4
 },
 "nbformat": 4,
 "nbformat_minor": 2
}
