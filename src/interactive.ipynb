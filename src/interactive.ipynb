{
 "cells": [
  {
   "cell_type": "code",
   "execution_count": 2,
   "metadata": {},
   "outputs": [
    {
     "name": "stdout",
     "output_type": "stream",
     "text": [
      "2023-08-15 16:40:38 \u001b[92m[INFO]\u001b[0m Logger '\u001b[94mmy_log\u001b[0m' with level \u001b[94m20\u001b[0m\n",
      "2023-08-15 16:40:39 \u001b[92m[INFO]\u001b[0m Initializing PandaRobot class\n",
      "2023-08-15 16:40:39 \u001b[92m[INFO]\u001b[0m Panda initialized\n"
     ]
    }
   ],
   "source": [
    "import rospy\n",
    "import numpy as np\n",
    "from panda_robot_custom import PandaRobotCustom\n",
    "import my_log\n",
    "import tools\n",
    "\n",
    "log = my_log.logger()\n",
    "log._print_logger_info()\n",
    "\n",
    "rospy.init_node(\"franka_test\", anonymous=True)\n",
    "\n",
    "robot = PandaRobotCustom()\n",
    "rospy.sleep(1)"
   ]
  },
  {
   "cell_type": "code",
   "execution_count": 9,
   "metadata": {},
   "outputs": [],
   "source": [
    "# EE frame transformation\n",
    "T = np.array([[1.0, 0.0, 0.0, 0.2],\n",
    "              [0.0, 1.0, 0.0, 0.0],\n",
    "              [0.0, 0.0, 1.0, 0.1],\n",
    "              [0.0, 0.0, 0.0, 1.0]])\n",
    "rot = tools.get_rotation_matrix(angle=np.deg2rad(-45), axis=\"z\")\n",
    "T[0:3, 0:3] = rot\n",
    "\n",
    "# EE frame parameters\n",
    "mass = 0.76\n",
    "F_x_center_load = [0.2, 0.1, 0.15]\n",
    "load_inertia = [0.001333, 0.0,     0.0,\n",
    "                0.0,      0.00347, 0.0,\n",
    "                0.0,      0.0,     0.00453]"
   ]
  },
  {
   "cell_type": "code",
   "execution_count": 10,
   "metadata": {},
   "outputs": [],
   "source": [
    "log.debug(robot.get_state())\n",
    "robot.switch_controller(stop_controllers=robot.init_controllers)\n",
    "rospy.sleep(1)\n",
    "\n",
    "response = robot.set_EE_load(mass, F_x_center_load, load_inertia)\n",
    "new_mtx = np.reshape(T, (16), order = 'F')\n",
    "response = robot.set_NE_T_EE_transform(NE_T_EE=new_mtx)\n",
    "\n",
    "robot.switch_controller(start_controllers=robot.init_controllers)\n",
    "rospy.sleep(1)\n",
    "log.debug(robot.get_state())"
   ]
  },
  {
   "cell_type": "code",
   "execution_count": null,
   "metadata": {},
   "outputs": [],
   "source": []
  }
 ],
 "metadata": {
  "kernelspec": {
   "display_name": "Python 3 (ipykernel)",
   "language": "python",
   "name": "python3"
  },
  "language_info": {
   "codemirror_mode": {
    "name": "ipython",
    "version": 3
   },
   "file_extension": ".py",
   "mimetype": "text/x-python",
   "name": "python",
   "nbconvert_exporter": "python",
   "pygments_lexer": "ipython3",
   "version": "3.8.10"
  }
 },
 "nbformat": 4,
 "nbformat_minor": 4
}
