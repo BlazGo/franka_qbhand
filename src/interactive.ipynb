{
 "cells": [
  {
   "cell_type": "code",
   "execution_count": null,
   "metadata": {},
   "outputs": [],
   "source": [
    "import rospy\n",
    "import rosnode\n",
    "import numpy as np\n",
    "from franka_setEE import SetEEFrameService, SetLoadService\n",
    "from franka_controllers import SwitchControllersSrv\n",
    "from franka_msgs.msg import FrankaState\n",
    "from franka_cartesian_impedance_param import SetCartesianImpedanceParams\n",
    "\n",
    "print(\"Initializing...\")\n",
    "rospy.init_node(\"franka_test\", anonymous=True)\n",
    "\n",
    "set_ee_service = SetEEFrameService()\n",
    "set_load_service = SetLoadService()\n",
    "switch_controllers = SwitchControllersSrv()\n",
    "set_impedance = SetCartesianImpedanceParams()\n",
    "print(\"Initialized.\")\n",
    "\n",
    "set_impedance.set_impedance(trans=400.0, rot=20.0)"
   ]
  },
  {
   "cell_type": "code",
   "execution_count": null,
   "metadata": {},
   "outputs": [],
   "source": [
    "state = rospy.wait_for_message(\"/franka_state_controller/franka_states\", FrankaState, timeout=1)\n",
    "print(state.NE_T_EE)\n",
    "switch_controllers.send_request(start_controllers=[\"\"],\n",
    "                                stop_controllers=[\"cartesian_impedance_example_controller\"])\n",
    "rospy.sleep(1)\n",
    "response = set_load_service.send_request(mass=0.76,\n",
    "                              F_x_center_load=[0.2, 0.1, 0.15],\n",
    "                              load_inertia=[0.001333, 0.0,     0.0,\n",
    "                                            0.0,      0.00347, 0.0,\n",
    "                                            0.0,      0.0,     0.00453])\n",
    "T = np.array([[1.0, 0.0, 0.0, 0.2],\n",
    "              [0.0, 1.0, 0.0, 0.2],\n",
    "              [0.0, 0.0, 1.0, 0.2],\n",
    "              [0.0, 0.0, 0.0, 1.0]])\n",
    "new_mtx = np.reshape(T, (16), order = 'F')\n",
    "response = set_ee_service.send_request(NE_T_EE=new_mtx)\n",
    "\n",
    "switch_controllers.send_request(start_controllers=[\"cartesian_impedance_example_controller\"],\n",
    "                                stop_controllers=[\"\"])\n",
    "rospy.sleep(1)\n",
    "state = rospy.wait_for_message(\"/franka_state_controller/franka_states\", FrankaState, timeout=1)\n",
    "print(state.NE_T_EE)"
   ]
  },
  {
   "cell_type": "code",
   "execution_count": null,
   "metadata": {},
   "outputs": [],
   "source": []
  }
 ],
 "metadata": {
  "kernelspec": {
   "display_name": ".venv",
   "language": "python",
   "name": "python3"
  },
  "language_info": {
   "codemirror_mode": {
    "name": "ipython",
    "version": 3
   },
   "file_extension": ".py",
   "mimetype": "text/x-python",
   "name": "python",
   "nbconvert_exporter": "python",
   "pygments_lexer": "ipython3",
   "version": "3.8.10"
  },
  "orig_nbformat": 4
 },
 "nbformat": 4,
 "nbformat_minor": 2
}
