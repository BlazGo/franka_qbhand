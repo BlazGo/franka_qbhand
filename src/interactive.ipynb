{
 "cells": [
  {
   "cell_type": "code",
   "execution_count": 1,
   "metadata": {},
   "outputs": [
    {
     "name": "stdout",
     "output_type": "stream",
     "text": [
      "\u001b[90m2023-09-13 18:52:59\u001b[0m \u001b[92m[INFO]\u001b[0m Initializing PandaRobot class\u001b[0m\n",
      "\u001b[90m2023-09-13 18:53:00\u001b[0m \u001b[92m[INFO]\u001b[0m Loaded controlers: ['franka_state_controller', 'cartesian_impedance_example_controller']\u001b[0m\n",
      "\u001b[90m2023-09-13 18:53:01\u001b[0m \u001b[92m[INFO]\u001b[0m Stiffness: {'translational_stiffness': 400.0, 'rotational_stiffness': 20.0, 'nullspace_stiffness': 0.5}\u001b[0m\n",
      "\u001b[90m2023-09-13 18:53:06\u001b[0m \u001b[92m[INFO]\u001b[0m Response switch controllers: ok: True\u001b[0m\n",
      "\u001b[90m2023-09-13 18:53:06\u001b[0m \u001b[92m[INFO]\u001b[0m Controllers: [name: \"franka_state_controller\"\n",
      "state: \"stopped\"\n",
      "type: \"franka_control/FrankaStateController\"\n",
      "claimed_resources: \n",
      "  - \n",
      "    hardware_interface: \"franka_hw::FrankaStateInterface\"\n",
      "    resources: [], name: \"cartesian_impedance_example_controller\"\n",
      "state: \"stopped\"\n",
      "type: \"franka_example_controllers/CartesianImpedanceExampleController\"\n",
      "claimed_resources: \n",
      "  - \n",
      "    hardware_interface: \"franka_hw::FrankaModelInterface\"\n",
      "    resources: []\n",
      "  - \n",
      "    hardware_interface: \"hardware_interface::EffortJointInterface\"\n",
      "    resources: \n",
      "      - panda_joint1\n",
      "      - panda_joint2\n",
      "      - panda_joint3\n",
      "      - panda_joint4\n",
      "      - panda_joint5\n",
      "      - panda_joint6\n",
      "      - panda_joint7\n",
      "  - \n",
      "    hardware_interface: \"franka_hw::FrankaStateInterface\"\n",
      "    resources: []]\u001b[0m\n",
      "\u001b[90m2023-09-13 18:53:15\u001b[0m \u001b[92m[INFO]\u001b[0m Response switch controllers: ok: True\u001b[0m\n",
      "\u001b[90m2023-09-13 18:53:17\u001b[0m \u001b[92m[INFO]\u001b[0m Panda initialization \u001b[92mDONE\u001b[0m\n"
     ]
    }
   ],
   "source": [
    "import rospy\n",
    "import numpy as np\n",
    "from panda_robot_custom import PandaRobotCustom\n",
    "from tf.transformations import quaternion_from_euler, euler_from_quaternion\n",
    "import my_log\n",
    "import my_tools\n",
    "\n",
    "log = my_log.logger()\n",
    "\n",
    "rospy.init_node(\"franka_test\", anonymous=True)\n",
    "\n",
    "robot = PandaRobotCustom(log_level=20)\n",
    "rospy.sleep(1) "
   ]
  },
  {
   "cell_type": "code",
   "execution_count": 2,
   "metadata": {},
   "outputs": [],
   "source": [
    "trans = [0.3, 0.0, 0.6]\n",
    "rot = [np.pi, 0.0, 0.0]\n",
    "robot.cart_move(trans, quaternion_from_euler(rot[0], rot[1], rot[2]))"
   ]
  },
  {
   "cell_type": "code",
   "execution_count": 3,
   "metadata": {},
   "outputs": [
    {
     "name": "stdout",
     "output_type": "stream",
     "text": [
      "\u001b[90m2023-09-13 18:53:36\u001b[0m \u001b[91m[ERROR]\u001b[0m Transform could not be fetched ('panda_link0' to 'qbhand_flange1')\u001b[0m\n",
      "\u001b[90m2023-09-13 18:53:36\u001b[0m \u001b[92m[INFO]\u001b[0m None\u001b[0m\n"
     ]
    }
   ],
   "source": [
    "log.info(robot.get_cart_pose(frame1=\"panda_EE\"))"
   ]
  },
  {
   "cell_type": "code",
   "execution_count": null,
   "metadata": {},
   "outputs": [],
   "source": []
  }
 ],
 "metadata": {
  "kernelspec": {
   "display_name": "Python 3 (ipykernel)",
   "language": "python",
   "name": "python3"
  },
  "language_info": {
   "codemirror_mode": {
    "name": "ipython",
    "version": 3
   },
   "file_extension": ".py",
   "mimetype": "text/x-python",
   "name": "python",
   "nbconvert_exporter": "python",
   "pygments_lexer": "ipython3",
   "version": "3.8.10"
  }
 },
 "nbformat": 4,
 "nbformat_minor": 4
}
