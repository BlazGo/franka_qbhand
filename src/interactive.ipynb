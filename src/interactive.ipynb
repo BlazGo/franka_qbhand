{
 "cells": [
  {
   "cell_type": "code",
   "execution_count": 1,
   "metadata": {},
   "outputs": [
    {
     "name": "stdout",
     "output_type": "stream",
     "text": [
      "\u001b[90m2023-08-20 10:59:32\u001b[0m \u001b[92m[INFO]\u001b[0m Logger '\u001b[94mmy_log\u001b[0m' with level \u001b[94m20\u001b[0m\u001b[0m\n",
      "\u001b[90m2023-08-20 10:59:32\u001b[0m \u001b[92m[INFO]\u001b[0m Initializing PandaRobot class\u001b[0m\n",
      "\u001b[90m2023-08-20 10:59:33\u001b[0m \u001b[92m[INFO]\u001b[0m Setting stiffness\u001b[0m\n",
      "\u001b[90m2023-08-20 10:59:33\u001b[0m \u001b[92m[INFO]\u001b[0m Old stiffness: {'translational_stiffness': 400.0, 'rotational_stiffness': 20.0, 'nullspace_stiffness': 1.0}\u001b[0m\n",
      "\u001b[90m2023-08-20 10:59:35\u001b[0m \u001b[92m[INFO]\u001b[0m New stiffness: {'translational_stiffness': 400.0, 'rotational_stiffness': 20.0, 'nullspace_stiffness': 1.0}\u001b[0m\n"
     ]
    },
    {
     "name": "stderr",
     "output_type": "stream",
     "text": [
      "/opt/ros/noetic/lib/python3/dist-packages/tf/listener.py:97: YAMLLoadWarning: calling yaml.load() without Loader=... is deprecated, as the default Loader is unsafe. Please read https://msg.pyyaml.org/load for full details.\n",
      "  data = yaml.load(self._buffer.all_frames_as_yaml()) or {}\n"
     ]
    },
    {
     "name": "stdout",
     "output_type": "stream",
     "text": [
      "\u001b[90m2023-08-20 10:59:38\u001b[0m \u001b[92m[INFO]\u001b[0m cart pose:\n",
      "trans:[0.6006924076637438, 1.649841886362173e-05, 0.5817979188786024], rot: (3.0543638841508716, -0.1337138829758345, 0.053901348200239535)\u001b[0m\n",
      "\u001b[90m2023-08-20 10:59:38\u001b[0m \u001b[92m[INFO]\u001b[0m q: (0.005007212772753178, -0.63794968641559, -0.04088317875048286, -2.216238004095228, -0.10126612873676066, 1.7185788964280828, 0.7156847328263556)\u001b[0m\n",
      "\u001b[90m2023-08-20 10:59:41\u001b[0m \u001b[92m[INFO]\u001b[0m Panda initialization \u001b[92mDONE\u001b[0m\n"
     ]
    }
   ],
   "source": [
    "import rospy\n",
    "import numpy as np\n",
    "from panda_robot_custom import PandaRobotCustom\n",
    "from tf.transformations import quaternion_from_euler, euler_from_quaternion\n",
    "import my_log\n",
    "import tools\n",
    "\n",
    "log = my_log.logger()\n",
    "log._print_logger_info()\n",
    "\n",
    "rospy.init_node(\"franka_test\", anonymous=True)\n",
    "\n",
    "robot = PandaRobotCustom()\n",
    "rospy.sleep(1) "
   ]
  },
  {
   "cell_type": "code",
   "execution_count": 2,
   "metadata": {},
   "outputs": [],
   "source": [
    "trans = [0.6, 0.0, 0.5]\n",
    "rot = [np.pi, -np.pi/3, 0.0]\n",
    "robot.cart_move(trans, quaternion_from_euler(rot[0], rot[1], rot[2]))"
   ]
  },
  {
   "cell_type": "code",
   "execution_count": 3,
   "metadata": {},
   "outputs": [
    {
     "name": "stdout",
     "output_type": "stream",
     "text": [
      "\u001b[90m2023-08-20 10:59:54\u001b[0m \u001b[92m[INFO]\u001b[0m ([0.6001835129129361, 3.276035944555465e-06, 0.5810567667985753], [-0.9967380259734402, -0.026247301065226582, -0.06243418845256441, -0.043890305052832895])\u001b[0m\n"
     ]
    }
   ],
   "source": [
    "log.info(robot.get_cart_pose())"
   ]
  },
  {
   "cell_type": "code",
   "execution_count": null,
   "metadata": {},
   "outputs": [],
   "source": []
  }
 ],
 "metadata": {
  "kernelspec": {
   "display_name": "Python 3 (ipykernel)",
   "language": "python",
   "name": "python3"
  },
  "language_info": {
   "codemirror_mode": {
    "name": "ipython",
    "version": 3
   },
   "file_extension": ".py",
   "mimetype": "text/x-python",
   "name": "python",
   "nbconvert_exporter": "python",
   "pygments_lexer": "ipython3",
   "version": "3.8.10"
  }
 },
 "nbformat": 4,
 "nbformat_minor": 4
}
