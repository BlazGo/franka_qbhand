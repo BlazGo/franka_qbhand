{
 "cells": [
  {
   "cell_type": "code",
   "execution_count": 1,
   "metadata": {},
   "outputs": [
    {
     "name": "stdout",
     "output_type": "stream",
     "text": [
      "\u001b[90m2023-09-15 15:29:39\u001b[0m \u001b[92m[INFO]\u001b[0m Initializing PandaRobot class\u001b[0m\n",
      "\u001b[90m2023-09-15 15:29:41\u001b[0m \u001b[92m[INFO]\u001b[0m Loaded controlers: ['franka_state_controller', 'cartesian_impedance_example_controller']\u001b[0m\n",
      "\u001b[90m2023-09-15 15:29:42\u001b[0m \u001b[92m[INFO]\u001b[0m Stiffness: {'translational_stiffness': 400.0, 'rotational_stiffness': 20.0, 'nullspace_stiffness': 0.5}\u001b[0m\n",
      "\u001b[90m2023-09-15 15:29:45\u001b[0m \u001b[92m[INFO]\u001b[0m Response switch controllers: ok: True\u001b[0m\n",
      "\u001b[90m2023-09-15 15:29:45\u001b[0m \u001b[92m[INFO]\u001b[0m Controllers: [['franka_state_controller', 'stopped'], ['cartesian_impedance_example_controller', 'stopped']]\u001b[0m\n",
      "\u001b[90m2023-09-15 15:29:52\u001b[0m \u001b[92m[INFO]\u001b[0m Response switch controllers: ok: True\u001b[0m\n",
      "\u001b[90m2023-09-15 15:29:54\u001b[0m \u001b[92m[INFO]\u001b[0m Panda initialization \u001b[92mDONE\u001b[0m\n"
     ]
    }
   ],
   "source": [
    "import rospy\n",
    "import numpy as np\n",
    "from panda_robot_custom import PandaRobotCustom\n",
    "from tf.transformations import quaternion_from_euler, euler_from_quaternion\n",
    "import my_log\n",
    "import my_tools\n",
    "\n",
    "log = my_log.logger()\n",
    "\n",
    "rospy.init_node(\"franka_test\", anonymous=True)\n",
    "\n",
    "robot = PandaRobotCustom(log_level=20)\n",
    "rospy.sleep(1) "
   ]
  },
  {
   "cell_type": "code",
   "execution_count": 2,
   "metadata": {},
   "outputs": [],
   "source": [
    "trans = [0.3, 0.0, 0.6]\n",
    "rot = [np.pi, 0.0, 0.0]\n",
    "robot.cart_move(trans, quaternion_from_euler(rot[0], rot[1], rot[2]))"
   ]
  },
  {
   "cell_type": "code",
   "execution_count": 3,
   "metadata": {},
   "outputs": [
    {
     "name": "stderr",
     "output_type": "stream",
     "text": [
      "/opt/ros/noetic/lib/python3/dist-packages/tf/listener.py:97: YAMLLoadWarning: calling yaml.load() without Loader=... is deprecated, as the default Loader is unsafe. Please read https://msg.pyyaml.org/load for full details.\n",
      "  data = yaml.load(self._buffer.all_frames_as_yaml()) or {}\n"
     ]
    },
    {
     "name": "stdout",
     "output_type": "stream",
     "text": [
      "\u001b[90m2023-09-15 15:30:07\u001b[0m \u001b[92m[INFO]\u001b[0m ([0.3000317220536534, 1.1955002204857082e-05, 0.5998516019596676], [-0.999988479016909, 1.4471829457700282e-05, 0.0013107745248155706, -0.0046177369089024905])\u001b[0m\n"
     ]
    }
   ],
   "source": [
    "log.info(robot.get_cart_pose(frame1=\"panda_EE\"))"
   ]
  },
  {
   "cell_type": "code",
   "execution_count": null,
   "metadata": {},
   "outputs": [],
   "source": []
  }
 ],
 "metadata": {
  "kernelspec": {
   "display_name": "Python 3 (ipykernel)",
   "language": "python",
   "name": "python3"
  },
  "language_info": {
   "codemirror_mode": {
    "name": "ipython",
    "version": 3
   },
   "file_extension": ".py",
   "mimetype": "text/x-python",
   "name": "python",
   "nbconvert_exporter": "python",
   "pygments_lexer": "ipython3",
   "version": "3.8.10"
  }
 },
 "nbformat": 4,
 "nbformat_minor": 4
}
