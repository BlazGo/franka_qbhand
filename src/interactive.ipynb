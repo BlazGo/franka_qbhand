{
 "cells": [
  {
   "cell_type": "code",
   "execution_count": 1,
   "metadata": {},
   "outputs": [
    {
     "name": "stdout",
     "output_type": "stream",
     "text": [
      "\u001b[90m2023-08-21 16:44:46\u001b[0m \u001b[92m[INFO]\u001b[0m Logger '\u001b[94mmy_log\u001b[0m' with level \u001b[94m20\u001b[0m\u001b[0m\n",
      "\u001b[90m2023-08-21 16:44:46\u001b[0m \u001b[92m[INFO]\u001b[0m Initializing PandaRobot class\u001b[0m\n",
      "\u001b[90m2023-08-21 16:44:46\u001b[0m \u001b[92m[INFO]\u001b[0m Setting stiffness\u001b[0m\n",
      "\u001b[90m2023-08-21 16:44:46\u001b[0m \u001b[92m[INFO]\u001b[0m Old stiffness: {'translational_stiffness': 200.0, 'rotational_stiffness': 10.0, 'nullspace_stiffness': 0.5}\u001b[0m\n",
      "\u001b[90m2023-08-21 16:44:48\u001b[0m \u001b[92m[INFO]\u001b[0m New stiffness: {'translational_stiffness': 400.0, 'rotational_stiffness': 20.0, 'nullspace_stiffness': 1.0}\u001b[0m\n"
     ]
    },
    {
     "name": "stderr",
     "output_type": "stream",
     "text": [
      "/opt/ros/noetic/lib/python3/dist-packages/tf/listener.py:97: YAMLLoadWarning: calling yaml.load() without Loader=... is deprecated, as the default Loader is unsafe. Please read https://msg.pyyaml.org/load for full details.\n",
      "  data = yaml.load(self._buffer.all_frames_as_yaml()) or {}\n"
     ]
    },
    {
     "name": "stdout",
     "output_type": "stream",
     "text": [
      "\u001b[90m2023-08-21 16:44:50\u001b[0m \u001b[92m[INFO]\u001b[0m Trans:[0.3063133259334194, 5.904197867475839e-05, 0.5969419556999807], Rot: (3.0737737271366083, 0.05511593807055255, -0.7870335014390171)\u001b[0m\n",
      "\u001b[90m2023-08-21 16:44:50\u001b[0m \u001b[92m[INFO]\u001b[0m q_states: (-0.0021356985330287515, -0.7474784951107871, 0.0036164474550925974, -2.297837409193419, -0.0064508444565989365, 1.4635141803913223, 0.7851583162608646)\u001b[0m\n",
      "\u001b[90m2023-08-21 16:44:53\u001b[0m \u001b[92m[INFO]\u001b[0m Panda initialization \u001b[92mDONE\u001b[0m\n"
     ]
    }
   ],
   "source": [
    "import rospy\n",
    "import numpy as np\n",
    "from panda_robot_custom import PandaRobotCustom\n",
    "from tf.transformations import quaternion_from_euler, euler_from_quaternion\n",
    "import my_log\n",
    "import tools\n",
    "\n",
    "log = my_log.logger()\n",
    "log._print_logger_info()\n",
    "\n",
    "rospy.init_node(\"franka_test\", anonymous=True)\n",
    "\n",
    "robot = PandaRobotCustom()\n",
    "rospy.sleep(1) "
   ]
  },
  {
   "cell_type": "code",
   "execution_count": 9,
   "metadata": {},
   "outputs": [],
   "source": [
    "trans = [0.6, 0.0, 0.5]\n",
    "rot = [np.pi, -np.pi/9, 0.0]\n",
    "robot.cart_move(trans, quaternion_from_euler(rot[0], rot[1], rot[2]))"
   ]
  },
  {
   "cell_type": "code",
   "execution_count": 8,
   "metadata": {},
   "outputs": [
    {
     "name": "stdout",
     "output_type": "stream",
     "text": [
      "\u001b[90m2023-08-21 16:54:09\u001b[0m \u001b[92m[INFO]\u001b[0m ([0.5994092859799204, 0.000124147672532853, 0.5258246300916453], [-0.9998548040788275, -0.0010412004005530273, -0.010213693521316396, -0.013600262014667526])\u001b[0m\n"
     ]
    },
    {
     "name": "stderr",
     "output_type": "stream",
     "text": [
      "/opt/ros/noetic/lib/python3/dist-packages/tf/listener.py:97: YAMLLoadWarning: calling yaml.load() without Loader=... is deprecated, as the default Loader is unsafe. Please read https://msg.pyyaml.org/load for full details.\n",
      "  data = yaml.load(self._buffer.all_frames_as_yaml()) or {}\n"
     ]
    }
   ],
   "source": [
    "log.info(robot.get_cart_pose())"
   ]
  },
  {
   "cell_type": "code",
   "execution_count": null,
   "metadata": {},
   "outputs": [],
   "source": []
  }
 ],
 "metadata": {
  "kernelspec": {
   "display_name": "Python 3 (ipykernel)",
   "language": "python",
   "name": "python3"
  },
  "language_info": {
   "codemirror_mode": {
    "name": "ipython",
    "version": 3
   },
   "file_extension": ".py",
   "mimetype": "text/x-python",
   "name": "python",
   "nbconvert_exporter": "python",
   "pygments_lexer": "ipython3",
   "version": "3.8.10"
  }
 },
 "nbformat": 4,
 "nbformat_minor": 4
}
